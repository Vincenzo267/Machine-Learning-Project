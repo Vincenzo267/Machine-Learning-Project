{
 "cells": [
  {
   "cell_type": "code",
   "execution_count": 1,
   "id": "forty-backing",
   "metadata": {},
   "outputs": [],
   "source": [
    "import numpy as np\n",
    "from sklearn.preprocessing import StandardScaler\n",
    "import pandas as pd\n",
    "from joblib import dump, load"
   ]
  },
  {
   "cell_type": "code",
   "execution_count": 2,
   "id": "static-bulgarian",
   "metadata": {},
   "outputs": [],
   "source": [
    "csv=np.loadtxt('Dataset\\Dataset_totale.csv', delimiter=',') #dataset con 7 colonne (6 input + 1 target)\n",
    "dataframe=pd.DataFrame(csv)"
   ]
  },
  {
   "cell_type": "code",
   "execution_count": 3,
   "id": "vietnamese-jungle",
   "metadata": {},
   "outputs": [],
   "source": [
    "all_1=np.array(dataframe)\n",
    "input_all_1=np.array(dataframe[dataframe.columns[:-1]])\n",
    "target_all_1=np.array(dataframe[dataframe.columns[-1]])"
   ]
  },
  {
   "cell_type": "code",
   "execution_count": 7,
   "id": "prescription-active",
   "metadata": {},
   "outputs": [],
   "source": [
    "c = int(input_all_1.shape[0]/20)\n",
    "all_input = np.empty([c, 120])\n",
    "a1 = np.split(input_all_1, c)\n",
    "for i in range(c):\n",
    "    a2 = a1[i].flatten()\n",
    "    all_input[i] = a2"
   ]
  },
  {
   "cell_type": "code",
   "execution_count": 8,
   "id": "linear-timer",
   "metadata": {},
   "outputs": [],
   "source": [
    "all_target = np.empty(c)\n",
    "i=0\n",
    "for j in range(0, input_all_1.shape[0], 20):\n",
    "    a3 = target_all_1[j]\n",
    "    all_target[i] = a3\n",
    "    i=i+1"
   ]
  },
  {
   "cell_type": "code",
   "execution_count": 9,
   "id": "intelligent-compression",
   "metadata": {},
   "outputs": [
    {
     "data": {
      "text/plain": [
       "['std_scaler.bin']"
      ]
     },
     "execution_count": 9,
     "metadata": {},
     "output_type": "execute_result"
    }
   ],
   "source": [
    "scaler = StandardScaler()\n",
    "scaler1= StandardScaler()\n",
    "scaler.fit(input_all_1)\n",
    "scale1=scaler.scale_\n",
    "mean1=scaler.mean_\n",
    "var1=scaler.var_\n",
    "scale2=[]\n",
    "mean2=[]\n",
    "var2=[]\n",
    "for i in range(0,20,1):\n",
    "    scale2=np.append(scale2,scale1)\n",
    "for i in range(0,20,1):\n",
    "    mean2=np.append(mean2,mean1)\n",
    "for i in range(0,20,1):\n",
    "    var2=np.append(var2,var1)\n",
    "input_all=all_input\n",
    "target_all=all_target\n",
    "scaler1.fit(input_all)\n",
    "scaler1.scale_=scale2 \n",
    "scaler1.mean_=mean2 \n",
    "scaler1.var_=var2\n",
    "scaled_input_all = scaler1.transform(input_all)\n",
    "dump(scaler1, 'std_scaler.bin', compress=True)"
   ]
  },
  {
   "cell_type": "code",
   "execution_count": 10,
   "id": "closed-receipt",
   "metadata": {},
   "outputs": [],
   "source": [
    "idx = np.random.permutation(len(scaled_input_all))\n",
    "scaled_input_all = scaled_input_all[idx]\n",
    "target_all = target_all[idx]"
   ]
  },
  {
   "cell_type": "code",
   "execution_count": 11,
   "id": "fixed-drink",
   "metadata": {},
   "outputs": [],
   "source": [
    "samples_count = input_all.shape[0]\n",
    "train_sample_count = int(0.8*samples_count)\n",
    "validation_sample_count = int(0.1*samples_count)\n",
    "test_sample_count = samples_count-train_sample_count-validation_sample_count\n",
    "train_inputs = scaled_input_all[:train_sample_count]\n",
    "validation_inputs = scaled_input_all[train_sample_count:train_sample_count+validation_sample_count]\n",
    "test_inputs = scaled_input_all[train_sample_count+validation_sample_count:]\n",
    "train_targets = target_all[:train_sample_count]\n",
    "validation_targets = target_all[train_sample_count:train_sample_count+validation_sample_count]\n",
    "test_targets = target_all[train_sample_count+validation_sample_count:]"
   ]
  },
  {
   "cell_type": "code",
   "execution_count": 12,
   "id": "fifty-cigarette",
   "metadata": {},
   "outputs": [],
   "source": [
    "np.savez('train', inputs=train_inputs, targets=train_targets)\n",
    "np.savez('validation', inputs=validation_inputs, targets=validation_targets)\n",
    "np.savez('test', inputs=test_inputs, targets=test_targets)"
   ]
  },
  {
   "cell_type": "code",
   "execution_count": 13,
   "id": "martial-florence",
   "metadata": {},
   "outputs": [
    {
     "name": "stdout",
     "output_type": "stream",
     "text": [
      "[   780.99741349    269.25455204    182.61668924  61827.31473834\n",
      " 105008.75267804  87068.03375213    780.99741349    269.25455204\n",
      "    182.61668924  61827.31473834 105008.75267804  87068.03375213\n",
      "    780.99741349    269.25455204    182.61668924  61827.31473834\n",
      " 105008.75267804  87068.03375213    780.99741349    269.25455204\n",
      "    182.61668924  61827.31473834 105008.75267804  87068.03375213\n",
      "    780.99741349    269.25455204    182.61668924  61827.31473834\n",
      " 105008.75267804  87068.03375213    780.99741349    269.25455204\n",
      "    182.61668924  61827.31473834 105008.75267804  87068.03375213\n",
      "    780.99741349    269.25455204    182.61668924  61827.31473834\n",
      " 105008.75267804  87068.03375213    780.99741349    269.25455204\n",
      "    182.61668924  61827.31473834 105008.75267804  87068.03375213\n",
      "    780.99741349    269.25455204    182.61668924  61827.31473834\n",
      " 105008.75267804  87068.03375213    780.99741349    269.25455204\n",
      "    182.61668924  61827.31473834 105008.75267804  87068.03375213\n",
      "    780.99741349    269.25455204    182.61668924  61827.31473834\n",
      " 105008.75267804  87068.03375213    780.99741349    269.25455204\n",
      "    182.61668924  61827.31473834 105008.75267804  87068.03375213\n",
      "    780.99741349    269.25455204    182.61668924  61827.31473834\n",
      " 105008.75267804  87068.03375213    780.99741349    269.25455204\n",
      "    182.61668924  61827.31473834 105008.75267804  87068.03375213\n",
      "    780.99741349    269.25455204    182.61668924  61827.31473834\n",
      " 105008.75267804  87068.03375213    780.99741349    269.25455204\n",
      "    182.61668924  61827.31473834 105008.75267804  87068.03375213\n",
      "    780.99741349    269.25455204    182.61668924  61827.31473834\n",
      " 105008.75267804  87068.03375213    780.99741349    269.25455204\n",
      "    182.61668924  61827.31473834 105008.75267804  87068.03375213\n",
      "    780.99741349    269.25455204    182.61668924  61827.31473834\n",
      " 105008.75267804  87068.03375213    780.99741349    269.25455204\n",
      "    182.61668924  61827.31473834 105008.75267804  87068.03375213]\n"
     ]
    }
   ],
   "source": [
    "print(scale2)"
   ]
  },
  {
   "cell_type": "code",
   "execution_count": 14,
   "id": "religious-parliament",
   "metadata": {},
   "outputs": [
    {
     "name": "stdout",
     "output_type": "stream",
     "text": [
      "[  -17.92874016  -200.71732283   869.57637795   -84.71653543\n",
      " -2817.66535433  1046.61023622   -17.92874016  -200.71732283\n",
      "   869.57637795   -84.71653543 -2817.66535433  1046.61023622\n",
      "   -17.92874016  -200.71732283   869.57637795   -84.71653543\n",
      " -2817.66535433  1046.61023622   -17.92874016  -200.71732283\n",
      "   869.57637795   -84.71653543 -2817.66535433  1046.61023622\n",
      "   -17.92874016  -200.71732283   869.57637795   -84.71653543\n",
      " -2817.66535433  1046.61023622   -17.92874016  -200.71732283\n",
      "   869.57637795   -84.71653543 -2817.66535433  1046.61023622\n",
      "   -17.92874016  -200.71732283   869.57637795   -84.71653543\n",
      " -2817.66535433  1046.61023622   -17.92874016  -200.71732283\n",
      "   869.57637795   -84.71653543 -2817.66535433  1046.61023622\n",
      "   -17.92874016  -200.71732283   869.57637795   -84.71653543\n",
      " -2817.66535433  1046.61023622   -17.92874016  -200.71732283\n",
      "   869.57637795   -84.71653543 -2817.66535433  1046.61023622\n",
      "   -17.92874016  -200.71732283   869.57637795   -84.71653543\n",
      " -2817.66535433  1046.61023622   -17.92874016  -200.71732283\n",
      "   869.57637795   -84.71653543 -2817.66535433  1046.61023622\n",
      "   -17.92874016  -200.71732283   869.57637795   -84.71653543\n",
      " -2817.66535433  1046.61023622   -17.92874016  -200.71732283\n",
      "   869.57637795   -84.71653543 -2817.66535433  1046.61023622\n",
      "   -17.92874016  -200.71732283   869.57637795   -84.71653543\n",
      " -2817.66535433  1046.61023622   -17.92874016  -200.71732283\n",
      "   869.57637795   -84.71653543 -2817.66535433  1046.61023622\n",
      "   -17.92874016  -200.71732283   869.57637795   -84.71653543\n",
      " -2817.66535433  1046.61023622   -17.92874016  -200.71732283\n",
      "   869.57637795   -84.71653543 -2817.66535433  1046.61023622\n",
      "   -17.92874016  -200.71732283   869.57637795   -84.71653543\n",
      " -2817.66535433  1046.61023622   -17.92874016  -200.71732283\n",
      "   869.57637795   -84.71653543 -2817.66535433  1046.61023622]\n"
     ]
    }
   ],
   "source": [
    "print(mean2)"
   ]
  },
  {
   "cell_type": "code",
   "execution_count": null,
   "id": "phantom-institute",
   "metadata": {},
   "outputs": [],
   "source": []
  }
 ],
 "metadata": {
  "kernelspec": {
   "display_name": "Python 3",
   "language": "python",
   "name": "python3"
  },
  "language_info": {
   "codemirror_mode": {
    "name": "ipython",
    "version": 3
   },
   "file_extension": ".py",
   "mimetype": "text/x-python",
   "name": "python",
   "nbconvert_exporter": "python",
   "pygments_lexer": "ipython3",
   "version": "3.9.13"
  }
 },
 "nbformat": 4,
 "nbformat_minor": 5
}
